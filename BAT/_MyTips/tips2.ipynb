{
  "nbformat": 4,
  "nbformat_minor": 0,
  "metadata": {
    "colab": {
      "name": "tips2.ipynb",
      "provenance": [],
      "collapsed_sections": [],
      "include_colab_link": true
    },
    "kernelspec": {
      "name": "python3",
      "display_name": "Python 3"
    },
    "language_info": {
      "name": "python"
    }
  },
  "cells": [
    {
      "cell_type": "markdown",
      "metadata": {
        "id": "view-in-github",
        "colab_type": "text"
      },
      "source": [
        "<a href=\"https://colab.research.google.com/github/haloyukka/BAT/blob/main/_MyTips/tips2.ipynb\" target=\"_parent\"><img src=\"https://colab.research.google.com/assets/colab-badge.svg\" alt=\"Open In Colab\"/></a>"
      ]
    },
    {
      "cell_type": "code",
      "execution_count": null,
      "metadata": {
        "colab": {
          "base_uri": "https://localhost:8080/"
        },
        "id": "Du--MII3Z5fm",
        "outputId": "0afd56e0-3bcc-4cbf-f0a1-856af69b2fcc"
      },
      "outputs": [
        {
          "output_type": "stream",
          "name": "stdout",
          "text": [
            "Linux-5.4.188+-x86_64-with-Ubuntu-18.04-bionic\n",
            "3.7.13 (default, Apr 24 2022, 01:04:09) \n",
            "[GCC 7.5.0]\n"
          ]
        }
      ],
      "source": [
        "# 動作環境チェック\n",
        "import platform, sys\n",
        "print(platform.platform())\n",
        "\n",
        "print(sys.version)"
      ]
    },
    {
      "cell_type": "code",
      "source": [
        "# 長い文字列を扱う ()を使用することでバックスラッシュや文字列連結を表す+も不要\n",
        "lorem = (\n",
        "  \"Lorem ipsum dolor sit amet, consectetur \"\n",
        "  \"adipiscing elit, sed do eiusmod \"\n",
        "  \"tempor incididunt ut labore et dolore \"\n",
        "  \"magna aliqua. Ut enim ad minim veniam, \")\n",
        "\n",
        "print(lorem)"
      ],
      "metadata": {
        "colab": {
          "base_uri": "https://localhost:8080/"
        },
        "id": "1PsJt8iVaR9C",
        "outputId": "0d6530fd-4185-4941-a358-4a2340af8e9a"
      },
      "execution_count": null,
      "outputs": [
        {
          "output_type": "stream",
          "name": "stdout",
          "text": [
            "Lorem ipsum dolor sit amet, consectetur adipiscing elit, sed do eiusmod tempor incididunt ut labore et dolore magna aliqua. Ut enim ad minim veniam, \n"
          ]
        }
      ]
    },
    {
      "cell_type": "code",
      "source": [
        "# import文を丸括弧でくくる\n",
        "from views import(\n",
        "    egg,\n",
        "    ham,\n",
        "    spam\n",
        ")"
      ],
      "metadata": {
        "id": "mggDzdqua2zS"
      },
      "execution_count": null,
      "outputs": []
    },
    {
      "cell_type": "code",
      "source": [
        "# ループでカウンターを使用する\n",
        "sequencial = ['spam','egg','ham']\n",
        "for i, x in enumerate(sequencial):\n",
        "  print(f'{i}:object is {x}')"
      ],
      "metadata": {
        "colab": {
          "base_uri": "https://localhost:8080/"
        },
        "id": "bc5B9M0DbQ-K",
        "outputId": "abd775e8-9258-4b9c-b46d-417009b74a0e"
      },
      "execution_count": null,
      "outputs": [
        {
          "output_type": "stream",
          "name": "stdout",
          "text": [
            "0:object is spam\n",
            "1:object is egg\n",
            "2:object is ham\n"
          ]
        }
      ]
    },
    {
      "cell_type": "code",
      "source": [
        "# ループカウンターの開始を1にしたい場合は第2引数に開始したい値を指定\n",
        "sequencial = ['spam','egg','ham']\n",
        "for i, x in enumerate(sequencial, 1001):\n",
        "  print(f'{i}:object is {x}')"
      ],
      "metadata": {
        "colab": {
          "base_uri": "https://localhost:8080/"
        },
        "id": "-2DE8jVPb9s9",
        "outputId": "f030a657-ac2c-4e3c-c65d-5b02a6336b95"
      },
      "execution_count": null,
      "outputs": [
        {
          "output_type": "stream",
          "name": "stdout",
          "text": [
            "1001:object is spam\n",
            "1002:object is egg\n",
            "1003:object is ham\n"
          ]
        }
      ]
    }
  ]
}