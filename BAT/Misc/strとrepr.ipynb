{
  "nbformat": 4,
  "nbformat_minor": 0,
  "metadata": {
    "colab": {
      "name": "strとrepr.ipynb",
      "provenance": [],
      "authorship_tag": "ABX9TyMJ2wruxs438aNM8c5f5+SC",
      "include_colab_link": true
    },
    "kernelspec": {
      "name": "python3",
      "display_name": "Python 3"
    },
    "language_info": {
      "name": "python"
    }
  },
  "cells": [
    {
      "cell_type": "markdown",
      "metadata": {
        "id": "view-in-github",
        "colab_type": "text"
      },
      "source": [
        "<a href=\"https://colab.research.google.com/github/haloyukka/BAT/blob/main/Misc/str%E3%81%A8repr.ipynb\" target=\"_parent\"><img src=\"https://colab.research.google.com/assets/colab-badge.svg\" alt=\"Open In Colab\"/></a>"
      ]
    },
    {
      "cell_type": "markdown",
      "source": [
        "# \\_\\_str\\_\\_と\\_\\_repr\\_\\_の違い\n",
        "\n",
        "公式ドキュメントの\\_\\_str\\_\\_の説明は以下の通り。<br>\n",
        "[\\_\\_str\\_\\_](https://docs.python.org/3.3/reference/datamodel.html#object.__str__)<br>\n",
        "```\n",
        "Called by str(object) and the built-in functions format() and print() to compute the “informal” or nicely printable string representation of an object. The return value must be a string object.\n",
        "```\n",
        "公式ドキュメントの\\_\\_repr\\_\\_の説明は以下の通り。<br>\n",
        "[\\_\\_repr\\_\\_](https://docs.python.org/3.3/reference/datamodel.html#object.__repr__\n",
        ")<br>\n",
        "```\n",
        "Called by the repr() built-in function to compute the “official” string representation of an object. If at all possible, this should look like a valid Python expression that could be used to recreate an object with the same value (given an appropriate environment).\n",
        "```\n",
        "\n",
        "どちらのメソッドも戻り値は文字列型です。\\_\\_str\\_\\_は、人間にとってわかりやすい、画面に表示しやすい、オブジェクトの表現を返すべきと定義されています。<br>\n",
        "\n",
        "一方、\\_\\_repr\\_\\_は、可能であれば、Pythonが復元できる(evalで評価すると元のオブジェクトに戻る）、オブジェクトの表現を返すべきと定義されています。<br>\n"
      ],
      "metadata": {
        "id": "IbuD3Me-hPnr"
      }
    },
    {
      "cell_type": "markdown",
      "source": [
        "# datetim型の例"
      ],
      "metadata": {
        "id": "_X-n1OpxhS2d"
      }
    },
    {
      "cell_type": "code",
      "execution_count": 1,
      "metadata": {
        "colab": {
          "base_uri": "https://localhost:8080/"
        },
        "id": "XSiLp3v5hBns",
        "outputId": "f74d0da7-d9b7-4c3c-c516-c3f7b0085f60"
      },
      "outputs": [
        {
          "output_type": "stream",
          "name": "stdout",
          "text": [
            "2022-06-07 00:16:56.958940\n"
          ]
        }
      ],
      "source": [
        "# strを呼び出すと、以下の通り人間にとってわかりやすい文字列表現になります。\n",
        "import datetime\n",
        "t = datetime.datetime.today()\n",
        "print(str(t))"
      ]
    },
    {
      "cell_type": "code",
      "source": [
        "# reprの戻り値を以下のようにevalで評価すると、datetime型を復元できます。\n",
        "import datetime\n",
        "t = datetime.datetime.today()\n",
        "t2 = eval(repr(t))\n",
        "print(type(t2))\n",
        "print(t2)"
      ],
      "metadata": {
        "colab": {
          "base_uri": "https://localhost:8080/"
        },
        "id": "eaupCfy4hZ6v",
        "outputId": "2d6ef1c4-c9c6-4ed2-fe02-40831cfd605b"
      },
      "execution_count": 2,
      "outputs": [
        {
          "output_type": "stream",
          "name": "stdout",
          "text": [
            "<class 'datetime.datetime'>\n",
            "2022-06-07 00:17:03.026528\n"
          ]
        }
      ]
    },
    {
      "cell_type": "markdown",
      "source": [
        "# 実際にコードを書いてみる"
      ],
      "metadata": {
        "id": "o189cQ-AhcLN"
      }
    },
    {
      "cell_type": "code",
      "source": [
        "class Person:\n",
        "    def __init__(self, name, age):\n",
        "        self._name = name\n",
        "        self._age = age\n",
        "\n",
        "    def __str__(self):\n",
        "        return f'名前は{self._name} 年齢は{self._age}'\n",
        "    \n",
        "    def __repr__(self):\n",
        "        return f'Person(\"{self._name}\", {self._age})'\n",
        "\n",
        "p = Person('Alice', 10)\n",
        "print(str(p))\n",
        "print(repr(p))\n",
        "p2 = eval(repr(p))\n",
        "print(str(p2))"
      ],
      "metadata": {
        "colab": {
          "base_uri": "https://localhost:8080/"
        },
        "id": "PSlrc7sfhe4k",
        "outputId": "ec4f642c-de87-4e95-9f39-43e1b42e199e"
      },
      "execution_count": 3,
      "outputs": [
        {
          "output_type": "stream",
          "name": "stdout",
          "text": [
            "名前はAlice 年齢は10\n",
            "Person(\"Alice\", 10)\n",
            "名前はAlice 年齢は10\n"
          ]
        }
      ]
    }
  ]
}